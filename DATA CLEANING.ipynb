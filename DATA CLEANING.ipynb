{
 "cells": [
  {
   "cell_type": "code",
   "execution_count": 1,
   "id": "659d9e59",
   "metadata": {},
   "outputs": [],
   "source": [
    "import pandas as pd"
   ]
  },
  {
   "cell_type": "code",
   "execution_count": 2,
   "id": "3954f817",
   "metadata": {},
   "outputs": [],
   "source": [
    "file=pd.read_csv(\"C:/Users/CSES134/Downloads/ai_job_market_insights.csv\")"
   ]
  },
  {
   "cell_type": "code",
   "execution_count": 3,
   "id": "a6f4cfd6",
   "metadata": {},
   "outputs": [
    {
     "data": {
      "text/html": [
       "<div>\n",
       "<style scoped>\n",
       "    .dataframe tbody tr th:only-of-type {\n",
       "        vertical-align: middle;\n",
       "    }\n",
       "\n",
       "    .dataframe tbody tr th {\n",
       "        vertical-align: top;\n",
       "    }\n",
       "\n",
       "    .dataframe thead th {\n",
       "        text-align: right;\n",
       "    }\n",
       "</style>\n",
       "<table border=\"1\" class=\"dataframe\">\n",
       "  <thead>\n",
       "    <tr style=\"text-align: right;\">\n",
       "      <th></th>\n",
       "      <th>Job_Title</th>\n",
       "      <th>Industry</th>\n",
       "      <th>Company_Size</th>\n",
       "      <th>Location</th>\n",
       "      <th>AI_Adoption_Level</th>\n",
       "      <th>Automation_Risk</th>\n",
       "      <th>Required_Skills</th>\n",
       "      <th>Salary_USD</th>\n",
       "      <th>Remote_Friendly</th>\n",
       "      <th>Job_Growth_Projection</th>\n",
       "    </tr>\n",
       "  </thead>\n",
       "  <tbody>\n",
       "    <tr>\n",
       "      <th>0</th>\n",
       "      <td>Cybersecurity Analyst</td>\n",
       "      <td>Entertainment</td>\n",
       "      <td>Small</td>\n",
       "      <td>Dubai</td>\n",
       "      <td>Medium</td>\n",
       "      <td>High</td>\n",
       "      <td>UX/UI Design</td>\n",
       "      <td>111392.165243</td>\n",
       "      <td>Yes</td>\n",
       "      <td>Growth</td>\n",
       "    </tr>\n",
       "    <tr>\n",
       "      <th>1</th>\n",
       "      <td>Marketing Specialist</td>\n",
       "      <td>Technology</td>\n",
       "      <td>Large</td>\n",
       "      <td>Singapore</td>\n",
       "      <td>Medium</td>\n",
       "      <td>High</td>\n",
       "      <td>Marketing</td>\n",
       "      <td>93792.562466</td>\n",
       "      <td>No</td>\n",
       "      <td>Decline</td>\n",
       "    </tr>\n",
       "    <tr>\n",
       "      <th>2</th>\n",
       "      <td>AI Researcher</td>\n",
       "      <td>Technology</td>\n",
       "      <td>Large</td>\n",
       "      <td>Singapore</td>\n",
       "      <td>Medium</td>\n",
       "      <td>High</td>\n",
       "      <td>UX/UI Design</td>\n",
       "      <td>107170.263069</td>\n",
       "      <td>Yes</td>\n",
       "      <td>Growth</td>\n",
       "    </tr>\n",
       "    <tr>\n",
       "      <th>3</th>\n",
       "      <td>Sales Manager</td>\n",
       "      <td>Retail</td>\n",
       "      <td>Small</td>\n",
       "      <td>Berlin</td>\n",
       "      <td>Low</td>\n",
       "      <td>High</td>\n",
       "      <td>Project Management</td>\n",
       "      <td>93027.953758</td>\n",
       "      <td>No</td>\n",
       "      <td>Growth</td>\n",
       "    </tr>\n",
       "    <tr>\n",
       "      <th>4</th>\n",
       "      <td>Cybersecurity Analyst</td>\n",
       "      <td>Entertainment</td>\n",
       "      <td>Small</td>\n",
       "      <td>Tokyo</td>\n",
       "      <td>Low</td>\n",
       "      <td>Low</td>\n",
       "      <td>JavaScript</td>\n",
       "      <td>87752.922171</td>\n",
       "      <td>Yes</td>\n",
       "      <td>Decline</td>\n",
       "    </tr>\n",
       "    <tr>\n",
       "      <th>...</th>\n",
       "      <td>...</td>\n",
       "      <td>...</td>\n",
       "      <td>...</td>\n",
       "      <td>...</td>\n",
       "      <td>...</td>\n",
       "      <td>...</td>\n",
       "      <td>...</td>\n",
       "      <td>...</td>\n",
       "      <td>...</td>\n",
       "      <td>...</td>\n",
       "    </tr>\n",
       "    <tr>\n",
       "      <th>495</th>\n",
       "      <td>Data Scientist</td>\n",
       "      <td>Telecommunications</td>\n",
       "      <td>Medium</td>\n",
       "      <td>Berlin</td>\n",
       "      <td>Low</td>\n",
       "      <td>Medium</td>\n",
       "      <td>Machine Learning</td>\n",
       "      <td>105821.394046</td>\n",
       "      <td>Yes</td>\n",
       "      <td>Stable</td>\n",
       "    </tr>\n",
       "    <tr>\n",
       "      <th>496</th>\n",
       "      <td>Cybersecurity Analyst</td>\n",
       "      <td>Telecommunications</td>\n",
       "      <td>Small</td>\n",
       "      <td>London</td>\n",
       "      <td>Low</td>\n",
       "      <td>High</td>\n",
       "      <td>UX/UI Design</td>\n",
       "      <td>119794.992146</td>\n",
       "      <td>No</td>\n",
       "      <td>Decline</td>\n",
       "    </tr>\n",
       "    <tr>\n",
       "      <th>497</th>\n",
       "      <td>Cybersecurity Analyst</td>\n",
       "      <td>Energy</td>\n",
       "      <td>Large</td>\n",
       "      <td>Dubai</td>\n",
       "      <td>High</td>\n",
       "      <td>Low</td>\n",
       "      <td>UX/UI Design</td>\n",
       "      <td>79644.933099</td>\n",
       "      <td>Yes</td>\n",
       "      <td>Stable</td>\n",
       "    </tr>\n",
       "    <tr>\n",
       "      <th>498</th>\n",
       "      <td>Operations Manager</td>\n",
       "      <td>Healthcare</td>\n",
       "      <td>Large</td>\n",
       "      <td>Paris</td>\n",
       "      <td>High</td>\n",
       "      <td>Low</td>\n",
       "      <td>Python</td>\n",
       "      <td>77642.150625</td>\n",
       "      <td>Yes</td>\n",
       "      <td>Stable</td>\n",
       "    </tr>\n",
       "    <tr>\n",
       "      <th>499</th>\n",
       "      <td>HR Manager</td>\n",
       "      <td>Entertainment</td>\n",
       "      <td>Medium</td>\n",
       "      <td>Berlin</td>\n",
       "      <td>Medium</td>\n",
       "      <td>High</td>\n",
       "      <td>Project Management</td>\n",
       "      <td>68764.378921</td>\n",
       "      <td>Yes</td>\n",
       "      <td>Decline</td>\n",
       "    </tr>\n",
       "  </tbody>\n",
       "</table>\n",
       "<p>500 rows × 10 columns</p>\n",
       "</div>"
      ],
      "text/plain": [
       "                 Job_Title            Industry Company_Size   Location  \\\n",
       "0    Cybersecurity Analyst       Entertainment        Small      Dubai   \n",
       "1     Marketing Specialist          Technology        Large  Singapore   \n",
       "2            AI Researcher          Technology        Large  Singapore   \n",
       "3            Sales Manager              Retail        Small     Berlin   \n",
       "4    Cybersecurity Analyst       Entertainment        Small      Tokyo   \n",
       "..                     ...                 ...          ...        ...   \n",
       "495         Data Scientist  Telecommunications       Medium     Berlin   \n",
       "496  Cybersecurity Analyst  Telecommunications        Small     London   \n",
       "497  Cybersecurity Analyst              Energy        Large      Dubai   \n",
       "498     Operations Manager          Healthcare        Large      Paris   \n",
       "499             HR Manager       Entertainment       Medium     Berlin   \n",
       "\n",
       "    AI_Adoption_Level Automation_Risk     Required_Skills     Salary_USD  \\\n",
       "0              Medium            High        UX/UI Design  111392.165243   \n",
       "1              Medium            High           Marketing   93792.562466   \n",
       "2              Medium            High        UX/UI Design  107170.263069   \n",
       "3                 Low            High  Project Management   93027.953758   \n",
       "4                 Low             Low          JavaScript   87752.922171   \n",
       "..                ...             ...                 ...            ...   \n",
       "495               Low          Medium    Machine Learning  105821.394046   \n",
       "496               Low            High        UX/UI Design  119794.992146   \n",
       "497              High             Low        UX/UI Design   79644.933099   \n",
       "498              High             Low              Python   77642.150625   \n",
       "499            Medium            High  Project Management   68764.378921   \n",
       "\n",
       "    Remote_Friendly Job_Growth_Projection  \n",
       "0               Yes                Growth  \n",
       "1                No               Decline  \n",
       "2               Yes                Growth  \n",
       "3                No                Growth  \n",
       "4               Yes               Decline  \n",
       "..              ...                   ...  \n",
       "495             Yes                Stable  \n",
       "496              No               Decline  \n",
       "497             Yes                Stable  \n",
       "498             Yes                Stable  \n",
       "499             Yes               Decline  \n",
       "\n",
       "[500 rows x 10 columns]"
      ]
     },
     "execution_count": 3,
     "metadata": {},
     "output_type": "execute_result"
    }
   ],
   "source": [
    "file"
   ]
  },
  {
   "cell_type": "code",
   "execution_count": 4,
   "id": "da2eec94",
   "metadata": {},
   "outputs": [
    {
     "data": {
      "text/html": [
       "<div>\n",
       "<style scoped>\n",
       "    .dataframe tbody tr th:only-of-type {\n",
       "        vertical-align: middle;\n",
       "    }\n",
       "\n",
       "    .dataframe tbody tr th {\n",
       "        vertical-align: top;\n",
       "    }\n",
       "\n",
       "    .dataframe thead th {\n",
       "        text-align: right;\n",
       "    }\n",
       "</style>\n",
       "<table border=\"1\" class=\"dataframe\">\n",
       "  <thead>\n",
       "    <tr style=\"text-align: right;\">\n",
       "      <th></th>\n",
       "      <th>Job_Title</th>\n",
       "      <th>Industry</th>\n",
       "      <th>Location</th>\n",
       "      <th>AI_Adoption_Level</th>\n",
       "      <th>Automation_Risk</th>\n",
       "      <th>Required_Skills</th>\n",
       "      <th>Salary_USD</th>\n",
       "      <th>Remote_Friendly</th>\n",
       "      <th>Job_Growth_Projection</th>\n",
       "    </tr>\n",
       "  </thead>\n",
       "  <tbody>\n",
       "    <tr>\n",
       "      <th>0</th>\n",
       "      <td>Cybersecurity Analyst</td>\n",
       "      <td>Entertainment</td>\n",
       "      <td>Dubai</td>\n",
       "      <td>Medium</td>\n",
       "      <td>High</td>\n",
       "      <td>UX/UI Design</td>\n",
       "      <td>111392.165243</td>\n",
       "      <td>Yes</td>\n",
       "      <td>Growth</td>\n",
       "    </tr>\n",
       "    <tr>\n",
       "      <th>1</th>\n",
       "      <td>Marketing Specialist</td>\n",
       "      <td>Technology</td>\n",
       "      <td>Singapore</td>\n",
       "      <td>Medium</td>\n",
       "      <td>High</td>\n",
       "      <td>Marketing</td>\n",
       "      <td>93792.562466</td>\n",
       "      <td>No</td>\n",
       "      <td>Decline</td>\n",
       "    </tr>\n",
       "    <tr>\n",
       "      <th>2</th>\n",
       "      <td>AI Researcher</td>\n",
       "      <td>Technology</td>\n",
       "      <td>Singapore</td>\n",
       "      <td>Medium</td>\n",
       "      <td>High</td>\n",
       "      <td>UX/UI Design</td>\n",
       "      <td>107170.263069</td>\n",
       "      <td>Yes</td>\n",
       "      <td>Growth</td>\n",
       "    </tr>\n",
       "    <tr>\n",
       "      <th>3</th>\n",
       "      <td>Sales Manager</td>\n",
       "      <td>Retail</td>\n",
       "      <td>Berlin</td>\n",
       "      <td>Low</td>\n",
       "      <td>High</td>\n",
       "      <td>Project Management</td>\n",
       "      <td>93027.953758</td>\n",
       "      <td>No</td>\n",
       "      <td>Growth</td>\n",
       "    </tr>\n",
       "    <tr>\n",
       "      <th>4</th>\n",
       "      <td>Cybersecurity Analyst</td>\n",
       "      <td>Entertainment</td>\n",
       "      <td>Tokyo</td>\n",
       "      <td>Low</td>\n",
       "      <td>Low</td>\n",
       "      <td>JavaScript</td>\n",
       "      <td>87752.922171</td>\n",
       "      <td>Yes</td>\n",
       "      <td>Decline</td>\n",
       "    </tr>\n",
       "    <tr>\n",
       "      <th>...</th>\n",
       "      <td>...</td>\n",
       "      <td>...</td>\n",
       "      <td>...</td>\n",
       "      <td>...</td>\n",
       "      <td>...</td>\n",
       "      <td>...</td>\n",
       "      <td>...</td>\n",
       "      <td>...</td>\n",
       "      <td>...</td>\n",
       "    </tr>\n",
       "    <tr>\n",
       "      <th>495</th>\n",
       "      <td>Data Scientist</td>\n",
       "      <td>Telecommunications</td>\n",
       "      <td>Berlin</td>\n",
       "      <td>Low</td>\n",
       "      <td>Medium</td>\n",
       "      <td>Machine Learning</td>\n",
       "      <td>105821.394046</td>\n",
       "      <td>Yes</td>\n",
       "      <td>Stable</td>\n",
       "    </tr>\n",
       "    <tr>\n",
       "      <th>496</th>\n",
       "      <td>Cybersecurity Analyst</td>\n",
       "      <td>Telecommunications</td>\n",
       "      <td>London</td>\n",
       "      <td>Low</td>\n",
       "      <td>High</td>\n",
       "      <td>UX/UI Design</td>\n",
       "      <td>119794.992146</td>\n",
       "      <td>No</td>\n",
       "      <td>Decline</td>\n",
       "    </tr>\n",
       "    <tr>\n",
       "      <th>497</th>\n",
       "      <td>Cybersecurity Analyst</td>\n",
       "      <td>Energy</td>\n",
       "      <td>Dubai</td>\n",
       "      <td>High</td>\n",
       "      <td>Low</td>\n",
       "      <td>UX/UI Design</td>\n",
       "      <td>79644.933099</td>\n",
       "      <td>Yes</td>\n",
       "      <td>Stable</td>\n",
       "    </tr>\n",
       "    <tr>\n",
       "      <th>498</th>\n",
       "      <td>Operations Manager</td>\n",
       "      <td>Healthcare</td>\n",
       "      <td>Paris</td>\n",
       "      <td>High</td>\n",
       "      <td>Low</td>\n",
       "      <td>Python</td>\n",
       "      <td>77642.150625</td>\n",
       "      <td>Yes</td>\n",
       "      <td>Stable</td>\n",
       "    </tr>\n",
       "    <tr>\n",
       "      <th>499</th>\n",
       "      <td>HR Manager</td>\n",
       "      <td>Entertainment</td>\n",
       "      <td>Berlin</td>\n",
       "      <td>Medium</td>\n",
       "      <td>High</td>\n",
       "      <td>Project Management</td>\n",
       "      <td>68764.378921</td>\n",
       "      <td>Yes</td>\n",
       "      <td>Decline</td>\n",
       "    </tr>\n",
       "  </tbody>\n",
       "</table>\n",
       "<p>500 rows × 9 columns</p>\n",
       "</div>"
      ],
      "text/plain": [
       "                 Job_Title            Industry   Location AI_Adoption_Level  \\\n",
       "0    Cybersecurity Analyst       Entertainment      Dubai            Medium   \n",
       "1     Marketing Specialist          Technology  Singapore            Medium   \n",
       "2            AI Researcher          Technology  Singapore            Medium   \n",
       "3            Sales Manager              Retail     Berlin               Low   \n",
       "4    Cybersecurity Analyst       Entertainment      Tokyo               Low   \n",
       "..                     ...                 ...        ...               ...   \n",
       "495         Data Scientist  Telecommunications     Berlin               Low   \n",
       "496  Cybersecurity Analyst  Telecommunications     London               Low   \n",
       "497  Cybersecurity Analyst              Energy      Dubai              High   \n",
       "498     Operations Manager          Healthcare      Paris              High   \n",
       "499             HR Manager       Entertainment     Berlin            Medium   \n",
       "\n",
       "    Automation_Risk     Required_Skills     Salary_USD Remote_Friendly  \\\n",
       "0              High        UX/UI Design  111392.165243             Yes   \n",
       "1              High           Marketing   93792.562466              No   \n",
       "2              High        UX/UI Design  107170.263069             Yes   \n",
       "3              High  Project Management   93027.953758              No   \n",
       "4               Low          JavaScript   87752.922171             Yes   \n",
       "..              ...                 ...            ...             ...   \n",
       "495          Medium    Machine Learning  105821.394046             Yes   \n",
       "496            High        UX/UI Design  119794.992146              No   \n",
       "497             Low        UX/UI Design   79644.933099             Yes   \n",
       "498             Low              Python   77642.150625             Yes   \n",
       "499            High  Project Management   68764.378921             Yes   \n",
       "\n",
       "    Job_Growth_Projection  \n",
       "0                  Growth  \n",
       "1                 Decline  \n",
       "2                  Growth  \n",
       "3                  Growth  \n",
       "4                 Decline  \n",
       "..                    ...  \n",
       "495                Stable  \n",
       "496               Decline  \n",
       "497                Stable  \n",
       "498                Stable  \n",
       "499               Decline  \n",
       "\n",
       "[500 rows x 9 columns]"
      ]
     },
     "execution_count": 4,
     "metadata": {},
     "output_type": "execute_result"
    }
   ],
   "source": [
    "file.drop(\"Company_Size\",axis=1)"
   ]
  },
  {
   "cell_type": "code",
   "execution_count": 5,
   "id": "f5daddf4",
   "metadata": {},
   "outputs": [],
   "source": [
    "file[\"Job_Title\"]=file[\"Job_Title\"].str.strip(\"Analyst\").astype(str)"
   ]
  },
  {
   "cell_type": "code",
   "execution_count": 6,
   "id": "b2e3d721",
   "metadata": {},
   "outputs": [
    {
     "data": {
      "text/html": [
       "<div>\n",
       "<style scoped>\n",
       "    .dataframe tbody tr th:only-of-type {\n",
       "        vertical-align: middle;\n",
       "    }\n",
       "\n",
       "    .dataframe tbody tr th {\n",
       "        vertical-align: top;\n",
       "    }\n",
       "\n",
       "    .dataframe thead th {\n",
       "        text-align: right;\n",
       "    }\n",
       "</style>\n",
       "<table border=\"1\" class=\"dataframe\">\n",
       "  <thead>\n",
       "    <tr style=\"text-align: right;\">\n",
       "      <th></th>\n",
       "      <th>Job_Title</th>\n",
       "      <th>Industry</th>\n",
       "      <th>Company_Size</th>\n",
       "      <th>Location</th>\n",
       "      <th>AI_Adoption_Level</th>\n",
       "      <th>Automation_Risk</th>\n",
       "      <th>Required_Skills</th>\n",
       "      <th>Salary_USD</th>\n",
       "      <th>Remote_Friendly</th>\n",
       "      <th>Job_Growth_Projection</th>\n",
       "    </tr>\n",
       "  </thead>\n",
       "  <tbody>\n",
       "    <tr>\n",
       "      <th>0</th>\n",
       "      <td>Cybersecurity</td>\n",
       "      <td>Entertainment</td>\n",
       "      <td>Small</td>\n",
       "      <td>Dubai</td>\n",
       "      <td>Medium</td>\n",
       "      <td>High</td>\n",
       "      <td>UX/UI Design</td>\n",
       "      <td>111392.165243</td>\n",
       "      <td>Yes</td>\n",
       "      <td>Growth</td>\n",
       "    </tr>\n",
       "    <tr>\n",
       "      <th>1</th>\n",
       "      <td>Marketing Speciali</td>\n",
       "      <td>Technology</td>\n",
       "      <td>Large</td>\n",
       "      <td>Singapore</td>\n",
       "      <td>Medium</td>\n",
       "      <td>High</td>\n",
       "      <td>Marketing</td>\n",
       "      <td>93792.562466</td>\n",
       "      <td>No</td>\n",
       "      <td>Decline</td>\n",
       "    </tr>\n",
       "    <tr>\n",
       "      <th>2</th>\n",
       "      <td>I Researcher</td>\n",
       "      <td>Technology</td>\n",
       "      <td>Large</td>\n",
       "      <td>Singapore</td>\n",
       "      <td>Medium</td>\n",
       "      <td>High</td>\n",
       "      <td>UX/UI Design</td>\n",
       "      <td>107170.263069</td>\n",
       "      <td>Yes</td>\n",
       "      <td>Growth</td>\n",
       "    </tr>\n",
       "    <tr>\n",
       "      <th>3</th>\n",
       "      <td>Sales Manager</td>\n",
       "      <td>Retail</td>\n",
       "      <td>Small</td>\n",
       "      <td>Berlin</td>\n",
       "      <td>Low</td>\n",
       "      <td>High</td>\n",
       "      <td>Project Management</td>\n",
       "      <td>93027.953758</td>\n",
       "      <td>No</td>\n",
       "      <td>Growth</td>\n",
       "    </tr>\n",
       "    <tr>\n",
       "      <th>4</th>\n",
       "      <td>Cybersecurity</td>\n",
       "      <td>Entertainment</td>\n",
       "      <td>Small</td>\n",
       "      <td>Tokyo</td>\n",
       "      <td>Low</td>\n",
       "      <td>Low</td>\n",
       "      <td>JavaScript</td>\n",
       "      <td>87752.922171</td>\n",
       "      <td>Yes</td>\n",
       "      <td>Decline</td>\n",
       "    </tr>\n",
       "    <tr>\n",
       "      <th>...</th>\n",
       "      <td>...</td>\n",
       "      <td>...</td>\n",
       "      <td>...</td>\n",
       "      <td>...</td>\n",
       "      <td>...</td>\n",
       "      <td>...</td>\n",
       "      <td>...</td>\n",
       "      <td>...</td>\n",
       "      <td>...</td>\n",
       "      <td>...</td>\n",
       "    </tr>\n",
       "    <tr>\n",
       "      <th>495</th>\n",
       "      <td>Data Scienti</td>\n",
       "      <td>Telecommunications</td>\n",
       "      <td>Medium</td>\n",
       "      <td>Berlin</td>\n",
       "      <td>Low</td>\n",
       "      <td>Medium</td>\n",
       "      <td>Machine Learning</td>\n",
       "      <td>105821.394046</td>\n",
       "      <td>Yes</td>\n",
       "      <td>Stable</td>\n",
       "    </tr>\n",
       "    <tr>\n",
       "      <th>496</th>\n",
       "      <td>Cybersecurity</td>\n",
       "      <td>Telecommunications</td>\n",
       "      <td>Small</td>\n",
       "      <td>London</td>\n",
       "      <td>Low</td>\n",
       "      <td>High</td>\n",
       "      <td>UX/UI Design</td>\n",
       "      <td>119794.992146</td>\n",
       "      <td>No</td>\n",
       "      <td>Decline</td>\n",
       "    </tr>\n",
       "    <tr>\n",
       "      <th>497</th>\n",
       "      <td>Cybersecurity</td>\n",
       "      <td>Energy</td>\n",
       "      <td>Large</td>\n",
       "      <td>Dubai</td>\n",
       "      <td>High</td>\n",
       "      <td>Low</td>\n",
       "      <td>UX/UI Design</td>\n",
       "      <td>79644.933099</td>\n",
       "      <td>Yes</td>\n",
       "      <td>Stable</td>\n",
       "    </tr>\n",
       "    <tr>\n",
       "      <th>498</th>\n",
       "      <td>Operations Manager</td>\n",
       "      <td>Healthcare</td>\n",
       "      <td>Large</td>\n",
       "      <td>Paris</td>\n",
       "      <td>High</td>\n",
       "      <td>Low</td>\n",
       "      <td>Python</td>\n",
       "      <td>77642.150625</td>\n",
       "      <td>Yes</td>\n",
       "      <td>Stable</td>\n",
       "    </tr>\n",
       "    <tr>\n",
       "      <th>499</th>\n",
       "      <td>HR Manager</td>\n",
       "      <td>Entertainment</td>\n",
       "      <td>Medium</td>\n",
       "      <td>Berlin</td>\n",
       "      <td>Medium</td>\n",
       "      <td>High</td>\n",
       "      <td>Project Management</td>\n",
       "      <td>68764.378921</td>\n",
       "      <td>Yes</td>\n",
       "      <td>Decline</td>\n",
       "    </tr>\n",
       "  </tbody>\n",
       "</table>\n",
       "<p>500 rows × 10 columns</p>\n",
       "</div>"
      ],
      "text/plain": [
       "              Job_Title            Industry Company_Size   Location  \\\n",
       "0        Cybersecurity        Entertainment        Small      Dubai   \n",
       "1    Marketing Speciali          Technology        Large  Singapore   \n",
       "2          I Researcher          Technology        Large  Singapore   \n",
       "3         Sales Manager              Retail        Small     Berlin   \n",
       "4        Cybersecurity        Entertainment        Small      Tokyo   \n",
       "..                  ...                 ...          ...        ...   \n",
       "495        Data Scienti  Telecommunications       Medium     Berlin   \n",
       "496      Cybersecurity   Telecommunications        Small     London   \n",
       "497      Cybersecurity               Energy        Large      Dubai   \n",
       "498  Operations Manager          Healthcare        Large      Paris   \n",
       "499          HR Manager       Entertainment       Medium     Berlin   \n",
       "\n",
       "    AI_Adoption_Level Automation_Risk     Required_Skills     Salary_USD  \\\n",
       "0              Medium            High        UX/UI Design  111392.165243   \n",
       "1              Medium            High           Marketing   93792.562466   \n",
       "2              Medium            High        UX/UI Design  107170.263069   \n",
       "3                 Low            High  Project Management   93027.953758   \n",
       "4                 Low             Low          JavaScript   87752.922171   \n",
       "..                ...             ...                 ...            ...   \n",
       "495               Low          Medium    Machine Learning  105821.394046   \n",
       "496               Low            High        UX/UI Design  119794.992146   \n",
       "497              High             Low        UX/UI Design   79644.933099   \n",
       "498              High             Low              Python   77642.150625   \n",
       "499            Medium            High  Project Management   68764.378921   \n",
       "\n",
       "    Remote_Friendly Job_Growth_Projection  \n",
       "0               Yes                Growth  \n",
       "1                No               Decline  \n",
       "2               Yes                Growth  \n",
       "3                No                Growth  \n",
       "4               Yes               Decline  \n",
       "..              ...                   ...  \n",
       "495             Yes                Stable  \n",
       "496              No               Decline  \n",
       "497             Yes                Stable  \n",
       "498             Yes                Stable  \n",
       "499             Yes               Decline  \n",
       "\n",
       "[500 rows x 10 columns]"
      ]
     },
     "execution_count": 6,
     "metadata": {},
     "output_type": "execute_result"
    }
   ],
   "source": [
    "file"
   ]
  },
  {
   "cell_type": "markdown",
   "id": "3e317714",
   "metadata": {},
   "source": [
    "# CATAGORICAL DATA"
   ]
  },
  {
   "cell_type": "code",
   "execution_count": 7,
   "id": "4f6e73d1",
   "metadata": {},
   "outputs": [],
   "source": [
    "Data=pd.DataFrame({\"Salary\":[10000,20000,30000,40000,50000],\"Range\":[\"LOW\",\"LOW\",\"MID\",\"HIGH\",\"HIGH\"]})"
   ]
  },
  {
   "cell_type": "code",
   "execution_count": 8,
   "id": "6a56b33a",
   "metadata": {},
   "outputs": [
    {
     "data": {
      "text/html": [
       "<div>\n",
       "<style scoped>\n",
       "    .dataframe tbody tr th:only-of-type {\n",
       "        vertical-align: middle;\n",
       "    }\n",
       "\n",
       "    .dataframe tbody tr th {\n",
       "        vertical-align: top;\n",
       "    }\n",
       "\n",
       "    .dataframe thead th {\n",
       "        text-align: right;\n",
       "    }\n",
       "</style>\n",
       "<table border=\"1\" class=\"dataframe\">\n",
       "  <thead>\n",
       "    <tr style=\"text-align: right;\">\n",
       "      <th></th>\n",
       "      <th>Salary</th>\n",
       "      <th>Range</th>\n",
       "    </tr>\n",
       "  </thead>\n",
       "  <tbody>\n",
       "    <tr>\n",
       "      <th>0</th>\n",
       "      <td>10000</td>\n",
       "      <td>LOW</td>\n",
       "    </tr>\n",
       "    <tr>\n",
       "      <th>1</th>\n",
       "      <td>20000</td>\n",
       "      <td>LOW</td>\n",
       "    </tr>\n",
       "    <tr>\n",
       "      <th>2</th>\n",
       "      <td>30000</td>\n",
       "      <td>MID</td>\n",
       "    </tr>\n",
       "    <tr>\n",
       "      <th>3</th>\n",
       "      <td>40000</td>\n",
       "      <td>HIGH</td>\n",
       "    </tr>\n",
       "    <tr>\n",
       "      <th>4</th>\n",
       "      <td>50000</td>\n",
       "      <td>HIGH</td>\n",
       "    </tr>\n",
       "  </tbody>\n",
       "</table>\n",
       "</div>"
      ],
      "text/plain": [
       "   Salary Range\n",
       "0   10000   LOW\n",
       "1   20000   LOW\n",
       "2   30000   MID\n",
       "3   40000  HIGH\n",
       "4   50000  HIGH"
      ]
     },
     "execution_count": 8,
     "metadata": {},
     "output_type": "execute_result"
    }
   ],
   "source": [
    "Data"
   ]
  },
  {
   "cell_type": "code",
   "execution_count": 9,
   "id": "129725df",
   "metadata": {},
   "outputs": [],
   "source": [
    "Code=Data.Range.map({\"LOW\":3,\"HIGH\":1,\"MID\":2})"
   ]
  },
  {
   "cell_type": "code",
   "execution_count": 10,
   "id": "8269f1e5",
   "metadata": {},
   "outputs": [
    {
     "data": {
      "text/plain": [
       "0    3\n",
       "1    3\n",
       "2    2\n",
       "3    1\n",
       "4    1\n",
       "Name: Range, dtype: int64"
      ]
     },
     "execution_count": 10,
     "metadata": {},
     "output_type": "execute_result"
    }
   ],
   "source": [
    "Code"
   ]
  },
  {
   "cell_type": "code",
   "execution_count": 11,
   "id": "6eb84fd4",
   "metadata": {
    "scrolled": true
   },
   "outputs": [],
   "source": [
    "Publish=pd.DataFrame(Data[\"Salary\"],columns=[\"Salary\"])"
   ]
  },
  {
   "cell_type": "code",
   "execution_count": 12,
   "id": "867661b9",
   "metadata": {},
   "outputs": [],
   "source": [
    "Publish[\"Code\"]=Code"
   ]
  },
  {
   "cell_type": "code",
   "execution_count": 13,
   "id": "5ada36a0",
   "metadata": {},
   "outputs": [
    {
     "data": {
      "text/html": [
       "<div>\n",
       "<style scoped>\n",
       "    .dataframe tbody tr th:only-of-type {\n",
       "        vertical-align: middle;\n",
       "    }\n",
       "\n",
       "    .dataframe tbody tr th {\n",
       "        vertical-align: top;\n",
       "    }\n",
       "\n",
       "    .dataframe thead th {\n",
       "        text-align: right;\n",
       "    }\n",
       "</style>\n",
       "<table border=\"1\" class=\"dataframe\">\n",
       "  <thead>\n",
       "    <tr style=\"text-align: right;\">\n",
       "      <th></th>\n",
       "      <th>Salary</th>\n",
       "      <th>Code</th>\n",
       "    </tr>\n",
       "  </thead>\n",
       "  <tbody>\n",
       "    <tr>\n",
       "      <th>0</th>\n",
       "      <td>10000</td>\n",
       "      <td>3</td>\n",
       "    </tr>\n",
       "    <tr>\n",
       "      <th>1</th>\n",
       "      <td>20000</td>\n",
       "      <td>3</td>\n",
       "    </tr>\n",
       "    <tr>\n",
       "      <th>2</th>\n",
       "      <td>30000</td>\n",
       "      <td>2</td>\n",
       "    </tr>\n",
       "    <tr>\n",
       "      <th>3</th>\n",
       "      <td>40000</td>\n",
       "      <td>1</td>\n",
       "    </tr>\n",
       "    <tr>\n",
       "      <th>4</th>\n",
       "      <td>50000</td>\n",
       "      <td>1</td>\n",
       "    </tr>\n",
       "  </tbody>\n",
       "</table>\n",
       "</div>"
      ],
      "text/plain": [
       "   Salary  Code\n",
       "0   10000     3\n",
       "1   20000     3\n",
       "2   30000     2\n",
       "3   40000     1\n",
       "4   50000     1"
      ]
     },
     "execution_count": 13,
     "metadata": {},
     "output_type": "execute_result"
    }
   ],
   "source": [
    "Publish"
   ]
  },
  {
   "cell_type": "markdown",
   "id": "733bdff1",
   "metadata": {},
   "source": [
    "# FEATURE SCALING"
   ]
  },
  {
   "cell_type": "code",
   "execution_count": 14,
   "id": "eba26dfb",
   "metadata": {},
   "outputs": [],
   "source": [
    "import numpy as np"
   ]
  },
  {
   "cell_type": "code",
   "execution_count": 15,
   "id": "36b203e0",
   "metadata": {},
   "outputs": [],
   "source": [
    "Test_Data=pd.DataFrame({'x':np.random.randint(-50,50,100),\n",
    "                        'y':np.random.randint(-40,40,100),\n",
    "                        'z':np.random.randint(-60,60,100)})"
   ]
  },
  {
   "cell_type": "code",
   "execution_count": 16,
   "id": "5a515901",
   "metadata": {},
   "outputs": [
    {
     "data": {
      "text/html": [
       "<div>\n",
       "<style scoped>\n",
       "    .dataframe tbody tr th:only-of-type {\n",
       "        vertical-align: middle;\n",
       "    }\n",
       "\n",
       "    .dataframe tbody tr th {\n",
       "        vertical-align: top;\n",
       "    }\n",
       "\n",
       "    .dataframe thead th {\n",
       "        text-align: right;\n",
       "    }\n",
       "</style>\n",
       "<table border=\"1\" class=\"dataframe\">\n",
       "  <thead>\n",
       "    <tr style=\"text-align: right;\">\n",
       "      <th></th>\n",
       "      <th>x</th>\n",
       "      <th>y</th>\n",
       "      <th>z</th>\n",
       "    </tr>\n",
       "  </thead>\n",
       "  <tbody>\n",
       "    <tr>\n",
       "      <th>0</th>\n",
       "      <td>25</td>\n",
       "      <td>-24</td>\n",
       "      <td>-42</td>\n",
       "    </tr>\n",
       "    <tr>\n",
       "      <th>1</th>\n",
       "      <td>26</td>\n",
       "      <td>34</td>\n",
       "      <td>-22</td>\n",
       "    </tr>\n",
       "    <tr>\n",
       "      <th>2</th>\n",
       "      <td>-36</td>\n",
       "      <td>20</td>\n",
       "      <td>-41</td>\n",
       "    </tr>\n",
       "    <tr>\n",
       "      <th>3</th>\n",
       "      <td>22</td>\n",
       "      <td>-14</td>\n",
       "      <td>51</td>\n",
       "    </tr>\n",
       "    <tr>\n",
       "      <th>4</th>\n",
       "      <td>-33</td>\n",
       "      <td>-28</td>\n",
       "      <td>-25</td>\n",
       "    </tr>\n",
       "    <tr>\n",
       "      <th>...</th>\n",
       "      <td>...</td>\n",
       "      <td>...</td>\n",
       "      <td>...</td>\n",
       "    </tr>\n",
       "    <tr>\n",
       "      <th>95</th>\n",
       "      <td>-27</td>\n",
       "      <td>-17</td>\n",
       "      <td>10</td>\n",
       "    </tr>\n",
       "    <tr>\n",
       "      <th>96</th>\n",
       "      <td>-16</td>\n",
       "      <td>-23</td>\n",
       "      <td>-44</td>\n",
       "    </tr>\n",
       "    <tr>\n",
       "      <th>97</th>\n",
       "      <td>42</td>\n",
       "      <td>24</td>\n",
       "      <td>-47</td>\n",
       "    </tr>\n",
       "    <tr>\n",
       "      <th>98</th>\n",
       "      <td>-32</td>\n",
       "      <td>-16</td>\n",
       "      <td>36</td>\n",
       "    </tr>\n",
       "    <tr>\n",
       "      <th>99</th>\n",
       "      <td>37</td>\n",
       "      <td>38</td>\n",
       "      <td>21</td>\n",
       "    </tr>\n",
       "  </tbody>\n",
       "</table>\n",
       "<p>100 rows × 3 columns</p>\n",
       "</div>"
      ],
      "text/plain": [
       "     x   y   z\n",
       "0   25 -24 -42\n",
       "1   26  34 -22\n",
       "2  -36  20 -41\n",
       "3   22 -14  51\n",
       "4  -33 -28 -25\n",
       "..  ..  ..  ..\n",
       "95 -27 -17  10\n",
       "96 -16 -23 -44\n",
       "97  42  24 -47\n",
       "98 -32 -16  36\n",
       "99  37  38  21\n",
       "\n",
       "[100 rows x 3 columns]"
      ]
     },
     "execution_count": 16,
     "metadata": {},
     "output_type": "execute_result"
    }
   ],
   "source": [
    "Test_Data"
   ]
  },
  {
   "cell_type": "code",
   "execution_count": 17,
   "id": "2751279e",
   "metadata": {},
   "outputs": [],
   "source": [
    "import matplotlib.pyplot as plt\n",
    "from mpl_toolkits.mplot3d import Axes3D\n",
    "%matplotlib inline"
   ]
  },
  {
   "cell_type": "code",
   "execution_count": 18,
   "id": "90f6c5c0",
   "metadata": {},
   "outputs": [
    {
     "data": {
      "image/png": "[encoded data removed]",
      "text/plain": [
       "<Figure size 640x480 with 1 Axes>"
      ]
     },
     "metadata": {},
     "output_type": "display_data"
    }
   ],
   "source": [
    "pl=plt.axes(projection='3d')"
   ]
  },
  {
   "cell_type": "code",
   "execution_count": 19,
   "id": "ef6ed828",
   "metadata": {},
   "outputs": [
    {
     "data": {
      "text/plain": [
       "<mpl_toolkits.mplot3d.art3d.Path3DCollection at 0x15a2db923d0>"
      ]
     },
     "execution_count": 19,
     "metadata": {},
     "output_type": "execute_result"
    }
   ],
   "source": [
    "pl.scatter3D(Test_Data.x,Test_Data.y,Test_Data.z)"
   ]
  },
  {
   "cell_type": "code",
   "execution_count": 20,
   "id": "9de4ea18",
   "metadata": {},
   "outputs": [
    {
     "data": {
      "text/plain": [
       "<Figure size 640x480 with 0 Axes>"
      ]
     },
     "execution_count": 20,
     "metadata": {},
     "output_type": "execute_result"
    },
    {
     "data": {
      "text/plain": [
       "<Figure size 640x480 with 0 Axes>"
      ]
     },
     "metadata": {},
     "output_type": "display_data"
    }
   ],
   "source": [
    "plt.figure()"
   ]
  },
  {
   "cell_type": "code",
   "execution_count": 21,
   "id": "d4ae2a22",
   "metadata": {},
   "outputs": [
    {
     "data": {
      "text/plain": [
       "<Figure size 640x480 with 0 Axes>"
      ]
     },
     "execution_count": 21,
     "metadata": {},
     "output_type": "execute_result"
    },
    {
     "data": {
      "image/png": "[encoded data removed]",
      "text/plain": [
       "<Figure size 640x480 with 1 Axes>"
      ]
     },
     "metadata": {},
     "output_type": "display_data"
    },
    {
     "data": {
      "text/plain": [
       "<Figure size 640x480 with 0 Axes>"
      ]
     },
     "metadata": {},
     "output_type": "display_data"
    }
   ],
   "source": [
    "pl=plt.axes(projection='3d')\n",
    "pl.scatter3D(Test_Data.x,Test_Data.y,Test_Data.z)\n",
    "plt.figure()"
   ]
  },
  {
   "cell_type": "code",
   "execution_count": 22,
   "id": "9bcf5095",
   "metadata": {},
   "outputs": [
    {
     "name": "stdout",
     "output_type": "stream",
     "text": [
      "Requirement already satisfied: scikit-learn in c:\\users\\cses134\\anaconda3\\envs\\ai\\lib\\site-packages (1.3.2)\n",
      "Requirement already satisfied: joblib>=1.1.1 in c:\\users\\cses134\\anaconda3\\envs\\ai\\lib\\site-packages (from scikit-learn) (1.3.2)\n",
      "Requirement already satisfied: scipy>=1.5.0 in c:\\users\\cses134\\anaconda3\\envs\\ai\\lib\\site-packages (from scikit-learn) (1.11.3)\n",
      "Requirement already satisfied: threadpoolctl>=2.0.0 in c:\\users\\cses134\\anaconda3\\envs\\ai\\lib\\site-packages (from scikit-learn) (3.2.0)\n",
      "Requirement already satisfied: numpy<2.0,>=1.17.3 in c:\\users\\cses134\\anaconda3\\envs\\ai\\lib\\site-packages (from scikit-learn) (1.23.5)\n",
      "Note: you may need to restart the kernel to use updated packages.\n"
     ]
    }
   ],
   "source": [
    "pip install scikit-learn"
   ]
  },
  {
   "cell_type": "code",
   "execution_count": 23,
   "id": "b075517f",
   "metadata": {},
   "outputs": [],
   "source": [
    "from sklearn.preprocessing import Normalizer"
   ]
  },
  {
   "cell_type": "code",
   "execution_count": 24,
   "id": "8b90e192",
   "metadata": {},
   "outputs": [],
   "source": [
    "nm=Normalizer()"
   ]
  },
  {
   "cell_type": "code",
   "execution_count": 25,
   "id": "5e4c1dee",
   "metadata": {},
   "outputs": [],
   "source": [
    "Normal_Data=nm.fit_transform(Test_Data)"
   ]
  },
  {
   "cell_type": "code",
   "execution_count": 26,
   "id": "ce4b4fa9",
   "metadata": {},
   "outputs": [
    {
     "data": {
      "text/plain": [
       "array([[ 0.45912153, -0.44075667, -0.77132417],\n",
       "       [ 0.54026156,  0.70649589, -0.4571444 ],\n",
       "       [-0.61949381,  0.34416323, -0.70553462],\n",
       "       [ 0.38407812, -0.24441335,  0.89036291],\n",
       "       [-0.66026416, -0.56022413, -0.50020012],\n",
       "       [ 0.34815531, -0.34815531,  0.87038828],\n",
       "       [ 0.789047  , -0.58672726,  0.18208777],\n",
       "       [ 0.07955573,  0.47733437,  0.87511301],\n",
       "       [ 0.41052902, -0.54016977, -0.73463089],\n",
       "       [ 0.31974431,  0.43964842, -0.83932881],\n",
       "       [-0.93720088,  0.34528454, -0.04932636],\n",
       "       [ 0.41940612, -0.10485153,  0.90172316],\n",
       "       [-0.68760573,  0.70782942, -0.16178958],\n",
       "       [ 0.59710978,  0.18372608,  0.78083586],\n",
       "       [ 0.        ,  0.30404017,  0.95265921],\n",
       "       [ 0.53731861, -0.18964186,  0.8217814 ],\n",
       "       [ 0.13592553,  0.10194415, -0.98546012],\n",
       "       [-0.3028604 , -0.76724633,  0.5653394 ],\n",
       "       [-0.5451359 ,  0.56393369, -0.62032705],\n",
       "       [ 0.51042766, -0.60050313,  0.61551571],\n",
       "       [ 0.4845583 ,  0.4463037 ,  0.75234052],\n",
       "       [ 0.7649112 ,  0.        ,  0.64413575],\n",
       "       [-0.33236591, -0.36929546, -0.86784432],\n",
       "       [ 0.47900284,  0.45163124, -0.75271874],\n",
       "       [-0.72476335, -0.05721816,  0.68661792],\n",
       "       [-0.40195507, -0.18551772,  0.896669  ],\n",
       "       [-0.84634924,  0.35734746, -0.39496298],\n",
       "       [-0.85749293,  0.        , -0.51449576],\n",
       "       [-0.03782347, -0.8699399 , -0.49170516],\n",
       "       [ 0.80961044, -0.42504548, -0.40480522],\n",
       "       [-0.54436594, -0.33622602, -0.76851662],\n",
       "       [ 0.56767578,  0.48252441, -0.66701904],\n",
       "       [ 0.23153942, -0.29769354,  0.92615768],\n",
       "       [ 0.54308279, -0.0835512 , -0.83551199],\n",
       "       [-0.77030119,  0.45090801,  0.45090801],\n",
       "       [-0.8716937 ,  0.15496777,  0.46490331],\n",
       "       [-0.84158736, -0.43832675, -0.31559526],\n",
       "       [-0.18015094, -0.94579243, -0.27022641],\n",
       "       [-0.55485701,  0.42803255,  0.71338758],\n",
       "       [ 0.63450293, -0.58569501,  0.50434848],\n",
       "       [-0.5270142 , -0.54125782,  0.65520684],\n",
       "       [-0.6933973 ,  0.43714178,  0.57280647],\n",
       "       [-0.62913649,  0.39802513,  0.66765505],\n",
       "       [-0.04696107, -0.53222543,  0.84529921],\n",
       "       [ 0.76608137,  0.63399838,  0.1056664 ],\n",
       "       [ 0.6074847 , -0.14463921, -0.78105175],\n",
       "       [ 0.06231097, -0.20770325,  0.97620526],\n",
       "       [-0.4000988 , -0.88910845, -0.22227711],\n",
       "       [ 0.29443974, -0.71156271,  0.63795278],\n",
       "       [-0.27137754,  0.02467069,  0.96215674],\n",
       "       [-0.6559042 , -0.13118084, -0.7433581 ],\n",
       "       [ 0.21412417,  0.09882654,  0.9717943 ],\n",
       "       [-0.76996072, -0.50283149,  0.3928371 ],\n",
       "       [ 0.41592314,  0.56446712,  0.71301109],\n",
       "       [-0.94628367, -0.25628516, -0.19714243],\n",
       "       [-0.15726673,  0.22716305, -0.96107446],\n",
       "       [-0.19611614,  0.        , -0.98058068],\n",
       "       [ 0.58820877,  0.80606387, -0.06535653],\n",
       "       [-0.28531022, -0.38041363, -0.87970651],\n",
       "       [ 0.59993878,  0.01428426,  0.79991838],\n",
       "       [-0.63714997,  0.53654734,  0.55331444],\n",
       "       [ 0.4236399 , -0.55511435, -0.71580535],\n",
       "       [ 0.80565101, -0.56869483, -0.16586933],\n",
       "       [ 0.57904876,  0.0551475 , -0.81342565],\n",
       "       [-0.0961262 ,  0.83309374, -0.54471514],\n",
       "       [ 0.59616722, -0.80253279,  0.02292951],\n",
       "       [ 0.4090991 , -0.30144145,  0.86126127],\n",
       "       [ 0.37694789, -0.2130575 , -0.90139713],\n",
       "       [ 0.94280904,  0.04714045, -0.32998316],\n",
       "       [-0.64361439,  0.0402259 ,  0.76429209],\n",
       "       [-0.54203702,  0.82596117,  0.15486772],\n",
       "       [ 0.31088091, -0.57735027,  0.75499651],\n",
       "       [ 0.26618649,  0.34936976, -0.89837939],\n",
       "       [ 0.47714409, -0.54295707,  0.69103627],\n",
       "       [-0.73028358,  0.56045019,  0.3906168 ],\n",
       "       [ 0.26100666,  0.52201331,  0.81202071],\n",
       "       [-0.57404694, -0.49851445, -0.64957944],\n",
       "       [-0.81542183,  0.18305388, -0.54916164],\n",
       "       [-0.98639392,  0.16439899,  0.        ],\n",
       "       [ 0.59021707,  0.41315195, -0.69350506],\n",
       "       [-0.07342231,  0.11013346,  0.99120118],\n",
       "       [ 0.45392194,  0.08253126, -0.88721106],\n",
       "       [-0.58172802,  0.20531577, -0.7870438 ],\n",
       "       [-0.10923092, -0.92846284,  0.3550005 ],\n",
       "       [-0.66670068,  0.62629458,  0.40406102],\n",
       "       [ 0.62595995,  0.55144091,  0.55144091],\n",
       "       [-0.16247817, -0.2924607 ,  0.94237338],\n",
       "       [ 0.91769311, -0.28092646,  0.28092646],\n",
       "       [-0.29496309, -0.88488926, -0.36051044],\n",
       "       [-0.7814038 ,  0.61396013, -0.11162911],\n",
       "       [ 0.04162153, -0.5827014 , -0.81161981],\n",
       "       [-0.47047747, -0.23523874, -0.8504785 ],\n",
       "       [ 0.49471786, -0.85924681,  0.13018891],\n",
       "       [-0.21581077, -0.37276406, -0.9024814 ],\n",
       "       [ 0.231986  , -0.54584941, -0.80512789],\n",
       "       [-0.80750062, -0.50842631,  0.2990743 ],\n",
       "       [-0.30672962, -0.44092382, -0.84350645],\n",
       "       [ 0.62271786,  0.35583878, -0.69685094],\n",
       "       [-0.63048832, -0.31524416,  0.70929937],\n",
       "       [ 0.6486239 ,  0.66615428,  0.36813789]])"
      ]
     },
     "execution_count": 26,
     "metadata": {},
     "output_type": "execute_result"
    }
   ],
   "source": [
    "Normal_Data"
   ]
  },
  {
   "cell_type": "code",
   "execution_count": 27,
   "id": "cb53cf52",
   "metadata": {},
   "outputs": [],
   "source": [
    "Normal_df=pd.DataFrame(Normal_Data,columns=['a','b','c'])"
   ]
  },
  {
   "cell_type": "code",
   "execution_count": 28,
   "id": "a2f8de57",
   "metadata": {},
   "outputs": [
    {
     "data": {
      "text/plain": [
       "<Figure size 640x480 with 0 Axes>"
      ]
     },
     "execution_count": 28,
     "metadata": {},
     "output_type": "execute_result"
    },
    {
     "data": {
      "image/png": "[encoded data removed]",
      "text/plain": [
       "<Figure size 640x480 with 1 Axes>"
      ]
     },
     "metadata": {},
     "output_type": "display_data"
    },
    {
     "data": {
      "text/plain": [
       "<Figure size 640x480 with 0 Axes>"
      ]
     },
     "metadata": {},
     "output_type": "display_data"
    }
   ],
   "source": [
    "pl=plt.axes(projection='3d')\n",
    "pl.scatter3D(Normal_df.a,Normal_df.b,Normal_df.c)\n",
    "plt.figure()"
   ]
  },
  {
   "cell_type": "markdown",
   "id": "cdff4980",
   "metadata": {},
   "source": [
    "# MISSING VALUES"
   ]
  },
  {
   "cell_type": "code",
   "execution_count": 29,
   "id": "e31e8847",
   "metadata": {},
   "outputs": [],
   "source": [
    "data={\"A\":[1,2,3,4,5],\n",
    "     \"B\":[10,40,np.nan,80,60],\n",
    "     \"C\":[np.nan,np.nan,100,50,60]}"
   ]
  },
  {
   "cell_type": "code",
   "execution_count": 30,
   "id": "b6e37a8e",
   "metadata": {},
   "outputs": [],
   "source": [
    "DF=pd.DataFrame(data)"
   ]
  },
  {
   "cell_type": "code",
   "execution_count": 31,
   "id": "ec01c812",
   "metadata": {},
   "outputs": [
    {
     "data": {
      "text/html": [
       "<div>\n",
       "<style scoped>\n",
       "    .dataframe tbody tr th:only-of-type {\n",
       "        vertical-align: middle;\n",
       "    }\n",
       "\n",
       "    .dataframe tbody tr th {\n",
       "        vertical-align: top;\n",
       "    }\n",
       "\n",
       "    .dataframe thead th {\n",
       "        text-align: right;\n",
       "    }\n",
       "</style>\n",
       "<table border=\"1\" class=\"dataframe\">\n",
       "  <thead>\n",
       "    <tr style=\"text-align: right;\">\n",
       "      <th></th>\n",
       "      <th>A</th>\n",
       "      <th>B</th>\n",
       "      <th>C</th>\n",
       "    </tr>\n",
       "  </thead>\n",
       "  <tbody>\n",
       "    <tr>\n",
       "      <th>0</th>\n",
       "      <td>1</td>\n",
       "      <td>10.0</td>\n",
       "      <td>NaN</td>\n",
       "    </tr>\n",
       "    <tr>\n",
       "      <th>1</th>\n",
       "      <td>2</td>\n",
       "      <td>40.0</td>\n",
       "      <td>NaN</td>\n",
       "    </tr>\n",
       "    <tr>\n",
       "      <th>2</th>\n",
       "      <td>3</td>\n",
       "      <td>NaN</td>\n",
       "      <td>100.0</td>\n",
       "    </tr>\n",
       "    <tr>\n",
       "      <th>3</th>\n",
       "      <td>4</td>\n",
       "      <td>80.0</td>\n",
       "      <td>50.0</td>\n",
       "    </tr>\n",
       "    <tr>\n",
       "      <th>4</th>\n",
       "      <td>5</td>\n",
       "      <td>60.0</td>\n",
       "      <td>60.0</td>\n",
       "    </tr>\n",
       "  </tbody>\n",
       "</table>\n",
       "</div>"
      ],
      "text/plain": [
       "   A     B      C\n",
       "0  1  10.0    NaN\n",
       "1  2  40.0    NaN\n",
       "2  3   NaN  100.0\n",
       "3  4  80.0   50.0\n",
       "4  5  60.0   60.0"
      ]
     },
     "execution_count": 31,
     "metadata": {},
     "output_type": "execute_result"
    }
   ],
   "source": [
    "DF"
   ]
  },
  {
   "cell_type": "code",
   "execution_count": 32,
   "id": "8e004f52",
   "metadata": {},
   "outputs": [],
   "source": [
    "from sklearn.impute import SimpleImputer"
   ]
  },
  {
   "cell_type": "code",
   "execution_count": 33,
   "id": "e9941008",
   "metadata": {},
   "outputs": [],
   "source": [
    "SM=SimpleImputer(missing_values=np.nan,strategy='mean')"
   ]
  },
  {
   "cell_type": "code",
   "execution_count": 34,
   "id": "9cb87484",
   "metadata": {},
   "outputs": [
    {
     "data": {
      "text/html": [
       "<style>#sk-container-id-1 {color: black;}#sk-container-id-1 pre{padding: 0;}#sk-container-id-1 div.sk-toggleable {background-color: white;}#sk-container-id-1 label.sk-toggleable__label {cursor: pointer;display: block;width: 100%;margin-bottom: 0;padding: 0.3em;box-sizing: border-box;text-align: center;}#sk-container-id-1 label.sk-toggleable__label-arrow:before {content: \"▸\";float: left;margin-right: 0.25em;color: #696969;}#sk-container-id-1 label.sk-toggleable__label-arrow:hover:before {color: black;}#sk-container-id-1 div.sk-estimator:hover label.sk-toggleable__label-arrow:before {color: black;}#sk-container-id-1 div.sk-toggleable__content {max-height: 0;max-width: 0;overflow: hidden;text-align: left;background-color: #f0f8ff;}#sk-container-id-1 div.sk-toggleable__content pre {margin: 0.2em;color: black;border-radius: 0.25em;background-color: #f0f8ff;}#sk-container-id-1 input.sk-toggleable__control:checked~div.sk-toggleable__content {max-height: 200px;max-width: 100%;overflow: auto;}#sk-container-id-1 input.sk-toggleable__control:checked~label.sk-toggleable__label-arrow:before {content: \"▾\";}#sk-container-id-1 div.sk-estimator input.sk-toggleable__control:checked~label.sk-toggleable__label {background-color: #d4ebff;}#sk-container-id-1 div.sk-label input.sk-toggleable__control:checked~label.sk-toggleable__label {background-color: #d4ebff;}#sk-container-id-1 input.sk-hidden--visually {border: 0;clip: rect(1px 1px 1px 1px);clip: rect(1px, 1px, 1px, 1px);height: 1px;margin: -1px;overflow: hidden;padding: 0;position: absolute;width: 1px;}#sk-container-id-1 div.sk-estimator {font-family: monospace;background-color: #f0f8ff;border: 1px dotted black;border-radius: 0.25em;box-sizing: border-box;margin-bottom: 0.5em;}#sk-container-id-1 div.sk-estimator:hover {background-color: #d4ebff;}#sk-container-id-1 div.sk-parallel-item::after {content: \"\";width: 100%;border-bottom: 1px solid gray;flex-grow: 1;}#sk-container-id-1 div.sk-label:hover label.sk-toggleable__label {background-color: #d4ebff;}#sk-container-id-1 div.sk-serial::before {content: \"\";position: absolute;border-left: 1px solid gray;box-sizing: border-box;top: 0;bottom: 0;left: 50%;z-index: 0;}#sk-container-id-1 div.sk-serial {display: flex;flex-direction: column;align-items: center;background-color: white;padding-right: 0.2em;padding-left: 0.2em;position: relative;}#sk-container-id-1 div.sk-item {position: relative;z-index: 1;}#sk-container-id-1 div.sk-parallel {display: flex;align-items: stretch;justify-content: center;background-color: white;position: relative;}#sk-container-id-1 div.sk-item::before, #sk-container-id-1 div.sk-parallel-item::before {content: \"\";position: absolute;border-left: 1px solid gray;box-sizing: border-box;top: 0;bottom: 0;left: 50%;z-index: -1;}#sk-container-id-1 div.sk-parallel-item {display: flex;flex-direction: column;z-index: 1;position: relative;background-color: white;}#sk-container-id-1 div.sk-parallel-item:first-child::after {align-self: flex-end;width: 50%;}#sk-container-id-1 div.sk-parallel-item:last-child::after {align-self: flex-start;width: 50%;}#sk-container-id-1 div.sk-parallel-item:only-child::after {width: 0;}#sk-container-id-1 div.sk-dashed-wrapped {border: 1px dashed gray;margin: 0 0.4em 0.5em 0.4em;box-sizing: border-box;padding-bottom: 0.4em;background-color: white;}#sk-container-id-1 div.sk-label label {font-family: monospace;font-weight: bold;display: inline-block;line-height: 1.2em;}#sk-container-id-1 div.sk-label-container {text-align: center;}#sk-container-id-1 div.sk-container {/* jupyter's `normalize.less` sets `[hidden] { display: none; }` but bootstrap.min.css set `[hidden] { display: none !important; }` so we also need the `!important` here to be able to override the default hidden behavior on the sphinx rendered scikit-learn.org. See: https://github.com/scikit-learn/scikit-learn/issues/21755 */display: inline-block !important;position: relative;}#sk-container-id-1 div.sk-text-repr-fallback {display: none;}</style><div id=\"sk-container-id-1\" class=\"sk-top-container\"><div class=\"sk-text-repr-fallback\"><pre>SimpleImputer()</pre><b>In a Jupyter environment, please rerun this cell to show the HTML representation or trust the notebook. <br />On GitHub, the HTML representation is unable to render, please try loading this page with nbviewer.org.</b></div><div class=\"sk-container\" hidden><div class=\"sk-item\"><div class=\"sk-estimator sk-toggleable\"><input class=\"sk-toggleable__control sk-hidden--visually\" id=\"sk-estimator-id-1\" type=\"checkbox\" checked><label for=\"sk-estimator-id-1\" class=\"sk-toggleable__label sk-toggleable__label-arrow\">SimpleImputer</label><div class=\"sk-toggleable__content\"><pre>SimpleImputer()</pre></div></div></div></div></div>"
      ],
      "text/plain": [
       "SimpleImputer()"
      ]
     },
     "execution_count": 34,
     "metadata": {},
     "output_type": "execute_result"
    }
   ],
   "source": [
    "SM.fit(DF)"
   ]
  },
  {
   "cell_type": "code",
   "execution_count": 35,
   "id": "24df2d9f",
   "metadata": {},
   "outputs": [
    {
     "data": {
      "text/plain": [
       "array([[  1. ,  10. ,  70. ],\n",
       "       [  2. ,  40. ,  70. ],\n",
       "       [  3. ,  47.5, 100. ],\n",
       "       [  4. ,  80. ,  50. ],\n",
       "       [  5. ,  60. ,  60. ]])"
      ]
     },
     "execution_count": 35,
     "metadata": {},
     "output_type": "execute_result"
    }
   ],
   "source": [
    "SM.transform(DF)"
   ]
  },
  {
   "cell_type": "code",
   "execution_count": 36,
   "id": "d0d8b2dd",
   "metadata": {},
   "outputs": [],
   "source": [
    "SM=SimpleImputer(missing_values=np.nan,strategy='most_frequent')"
   ]
  },
  {
   "cell_type": "code",
   "execution_count": 37,
   "id": "5edd5d56",
   "metadata": {},
   "outputs": [
    {
     "data": {
      "text/html": [
       "<style>#sk-container-id-2 {color: black;}#sk-container-id-2 pre{padding: 0;}#sk-container-id-2 div.sk-toggleable {background-color: white;}#sk-container-id-2 label.sk-toggleable__label {cursor: pointer;display: block;width: 100%;margin-bottom: 0;padding: 0.3em;box-sizing: border-box;text-align: center;}#sk-container-id-2 label.sk-toggleable__label-arrow:before {content: \"▸\";float: left;margin-right: 0.25em;color: #696969;}#sk-container-id-2 label.sk-toggleable__label-arrow:hover:before {color: black;}#sk-container-id-2 div.sk-estimator:hover label.sk-toggleable__label-arrow:before {color: black;}#sk-container-id-2 div.sk-toggleable__content {max-height: 0;max-width: 0;overflow: hidden;text-align: left;background-color: #f0f8ff;}#sk-container-id-2 div.sk-toggleable__content pre {margin: 0.2em;color: black;border-radius: 0.25em;background-color: #f0f8ff;}#sk-container-id-2 input.sk-toggleable__control:checked~div.sk-toggleable__content {max-height: 200px;max-width: 100%;overflow: auto;}#sk-container-id-2 input.sk-toggleable__control:checked~label.sk-toggleable__label-arrow:before {content: \"▾\";}#sk-container-id-2 div.sk-estimator input.sk-toggleable__control:checked~label.sk-toggleable__label {background-color: #d4ebff;}#sk-container-id-2 div.sk-label input.sk-toggleable__control:checked~label.sk-toggleable__label {background-color: #d4ebff;}#sk-container-id-2 input.sk-hidden--visually {border: 0;clip: rect(1px 1px 1px 1px);clip: rect(1px, 1px, 1px, 1px);height: 1px;margin: -1px;overflow: hidden;padding: 0;position: absolute;width: 1px;}#sk-container-id-2 div.sk-estimator {font-family: monospace;background-color: #f0f8ff;border: 1px dotted black;border-radius: 0.25em;box-sizing: border-box;margin-bottom: 0.5em;}#sk-container-id-2 div.sk-estimator:hover {background-color: #d4ebff;}#sk-container-id-2 div.sk-parallel-item::after {content: \"\";width: 100%;border-bottom: 1px solid gray;flex-grow: 1;}#sk-container-id-2 div.sk-label:hover label.sk-toggleable__label {background-color: #d4ebff;}#sk-container-id-2 div.sk-serial::before {content: \"\";position: absolute;border-left: 1px solid gray;box-sizing: border-box;top: 0;bottom: 0;left: 50%;z-index: 0;}#sk-container-id-2 div.sk-serial {display: flex;flex-direction: column;align-items: center;background-color: white;padding-right: 0.2em;padding-left: 0.2em;position: relative;}#sk-container-id-2 div.sk-item {position: relative;z-index: 1;}#sk-container-id-2 div.sk-parallel {display: flex;align-items: stretch;justify-content: center;background-color: white;position: relative;}#sk-container-id-2 div.sk-item::before, #sk-container-id-2 div.sk-parallel-item::before {content: \"\";position: absolute;border-left: 1px solid gray;box-sizing: border-box;top: 0;bottom: 0;left: 50%;z-index: -1;}#sk-container-id-2 div.sk-parallel-item {display: flex;flex-direction: column;z-index: 1;position: relative;background-color: white;}#sk-container-id-2 div.sk-parallel-item:first-child::after {align-self: flex-end;width: 50%;}#sk-container-id-2 div.sk-parallel-item:last-child::after {align-self: flex-start;width: 50%;}#sk-container-id-2 div.sk-parallel-item:only-child::after {width: 0;}#sk-container-id-2 div.sk-dashed-wrapped {border: 1px dashed gray;margin: 0 0.4em 0.5em 0.4em;box-sizing: border-box;padding-bottom: 0.4em;background-color: white;}#sk-container-id-2 div.sk-label label {font-family: monospace;font-weight: bold;display: inline-block;line-height: 1.2em;}#sk-container-id-2 div.sk-label-container {text-align: center;}#sk-container-id-2 div.sk-container {/* jupyter's `normalize.less` sets `[hidden] { display: none; }` but bootstrap.min.css set `[hidden] { display: none !important; }` so we also need the `!important` here to be able to override the default hidden behavior on the sphinx rendered scikit-learn.org. See: https://github.com/scikit-learn/scikit-learn/issues/21755 */display: inline-block !important;position: relative;}#sk-container-id-2 div.sk-text-repr-fallback {display: none;}</style><div id=\"sk-container-id-2\" class=\"sk-top-container\"><div class=\"sk-text-repr-fallback\"><pre>SimpleImputer(strategy=&#x27;most_frequent&#x27;)</pre><b>In a Jupyter environment, please rerun this cell to show the HTML representation or trust the notebook. <br />On GitHub, the HTML representation is unable to render, please try loading this page with nbviewer.org.</b></div><div class=\"sk-container\" hidden><div class=\"sk-item\"><div class=\"sk-estimator sk-toggleable\"><input class=\"sk-toggleable__control sk-hidden--visually\" id=\"sk-estimator-id-2\" type=\"checkbox\" checked><label for=\"sk-estimator-id-2\" class=\"sk-toggleable__label sk-toggleable__label-arrow\">SimpleImputer</label><div class=\"sk-toggleable__content\"><pre>SimpleImputer(strategy=&#x27;most_frequent&#x27;)</pre></div></div></div></div></div>"
      ],
      "text/plain": [
       "SimpleImputer(strategy='most_frequent')"
      ]
     },
     "execution_count": 37,
     "metadata": {},
     "output_type": "execute_result"
    }
   ],
   "source": [
    "SM.fit(DF)"
   ]
  },
  {
   "cell_type": "code",
   "execution_count": null,
   "id": "424e378b",
   "metadata": {},
   "outputs": [],
   "source": []
  }
 ],
 "metadata": {
  "kernelspec": {
   "display_name": "Python 3 (ipykernel)",
   "language": "python",
   "name": "python3"
  },
  "language_info": {
   "codemirror_mode": {
    "name": "ipython",
    "version": 3
   },
   "file_extension": ".py",
   "mimetype": "text/x-python",
   "name": "python",
   "nbconvert_exporter": "python",
   "pygments_lexer": "ipython3",
   "version": "3.9.13"
  }
 },
 "nbformat": 4,
 "nbformat_minor": 5
}
